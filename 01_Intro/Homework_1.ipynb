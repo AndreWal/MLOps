{
 "cells": [
  {
   "cell_type": "code",
   "execution_count": 1,
   "id": "85abd358-74c8-423f-92f7-1595a29649bf",
   "metadata": {},
   "outputs": [],
   "source": [
    "import polars as pl\n",
    "import mlflow\n",
    "import numpy as np\n",
    "\n",
    "from sklearn.feature_extraction import DictVectorizer\n",
    "from sklearn.linear_model import LinearRegression\n",
    "from sklearn.linear_model import Lasso\n",
    "from sklearn.linear_model import Ridge\n",
    "\n",
    "from sklearn.metrics import root_mean_squared_error\n",
    "\n"
   ]
  },
  {
   "cell_type": "code",
   "execution_count": 2,
   "id": "32fd64b2-4c1a-4300-a55b-c50e3d76752f",
   "metadata": {
    "scrolled": true
   },
   "outputs": [],
   "source": [
    "mlflow.set_tracking_uri(\"sqlite:///mlflow.db\")\n",
    "mlflow.set_experiment(\"Trail_13_05\")\n",
    "\n",
    "client = mlflow.tracking.MlflowClient(tracking_uri=\"sqlite:///mlflow.db\")"
   ]
  },
  {
   "cell_type": "code",
   "execution_count": 3,
   "id": "e02478c3-172c-4199-8961-d29041ddcf89",
   "metadata": {},
   "outputs": [],
   "source": [
    "train_dat = pl.read_parquet(\"https://d37ci6vzurychx.cloudfront.net/trip-data/yellow_tripdata_2024-01.parquet\")\n",
    "val_dat = pl.read_parquet(\"https://d37ci6vzurychx.cloudfront.net/trip-data/yellow_tripdata_2024-02.parquet\")"
   ]
  },
  {
   "cell_type": "code",
   "execution_count": 4,
   "id": "41fd6d6c-b4a4-4113-8134-8f549c06d205",
   "metadata": {
    "scrolled": true
   },
   "outputs": [],
   "source": [
    "def dat_transform(df):\n",
    "    df = (\n",
    "        df.with_columns(\n",
    "            (\n",
    "                (pl.col(\"tpep_dropoff_datetime\") - pl.col(\"tpep_pickup_datetime\"))\n",
    "                .dt.total_seconds() / 60          # ← total seconds → minutes\n",
    "            ).alias(\"duration\")\n",
    "        )\n",
    "        .filter(pl.col(\"duration\").is_between(1, 60, closed=\"both\"))\n",
    "    )\n",
    "\n",
    "\n",
    "    categorical = ['PULocationID', 'DOLocationID']\n",
    "\n",
    "    df = df.with_columns([pl.col(c).cast(pl.Utf8) for c in categorical])\n",
    "    return df"
   ]
  },
  {
   "cell_type": "code",
   "execution_count": 5,
   "id": "2c67e97c-397c-49f3-bfb8-d98cc48f4785",
   "metadata": {},
   "outputs": [],
   "source": [
    "train = dat_transform(train_dat)"
   ]
  },
  {
   "cell_type": "code",
   "execution_count": 6,
   "id": "2d0ee937-3490-41eb-8d14-f2453883196e",
   "metadata": {},
   "outputs": [],
   "source": [
    "val = dat_transform(val_dat)"
   ]
  },
  {
   "cell_type": "code",
   "execution_count": 7,
   "id": "aab7d8b3-78cb-4280-ba1f-c5a44829c4e5",
   "metadata": {},
   "outputs": [],
   "source": [
    "categorical = ['PULocationID', 'DOLocationID']\n",
    "numerical = ['trip_distance']\n",
    "target      = \"duration\"\n",
    "\n",
    "train = train.with_columns([pl.col(categorical).cast(pl.Utf8)])\n",
    "\n",
    "\n",
    "train_dicts = train.select(categorical + numerical).to_dicts()   \n",
    "\n",
    "dv       = DictVectorizer(sparse=True)\n",
    "X_train  = dv.fit_transform(train_dicts)\n",
    "y_train  = train[target].to_numpy()"
   ]
  },
  {
   "cell_type": "code",
   "execution_count": 8,
   "id": "b674753b-5050-4073-a651-a0cf364617bd",
   "metadata": {},
   "outputs": [],
   "source": [
    "with mlflow.start_run():\n",
    "    mlflow.set_tag(\"developer\",\"André\")\n",
    "    mlflow.log_param(\"train_data_path\",\"https://d37ci6vzurychx.cloudfront.net/trip-data/yellow_tripdata_2024-01.parquet\")\n",
    "    mlflow.log_param(\"val_data_path\",\"https://d37ci6vzurychx.cloudfront.net/trip-data/yellow_tripdata_2024-02.parquet\")\n",
    "    \n",
    "    lr       = LinearRegression().fit(X_train, y_train)\n",
    "    y_pred   = lr.predict(X_train)\n",
    "\n",
    "    rmse = root_mean_squared_error(y_train, y_pred)\n",
    "    mlflow.log_metric(\"RMSE\",rmse)"
   ]
  },
  {
   "cell_type": "code",
   "execution_count": null,
   "id": "b0b3dc39-bba6-4daa-a815-a87a4a420b87",
   "metadata": {},
   "outputs": [],
   "source": []
  }
 ],
 "metadata": {
  "kernelspec": {
   "display_name": "Python 3 (ipykernel)",
   "language": "python",
   "name": "python3"
  },
  "language_info": {
   "codemirror_mode": {
    "name": "ipython",
    "version": 3
   },
   "file_extension": ".py",
   "mimetype": "text/x-python",
   "name": "python",
   "nbconvert_exporter": "python",
   "pygments_lexer": "ipython3",
   "version": "3.12.10"
  }
 },
 "nbformat": 4,
 "nbformat_minor": 5
}
